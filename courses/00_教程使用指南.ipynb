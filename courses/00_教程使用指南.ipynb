{
 "cells": [
  {
   "cell_type": "markdown",
   "metadata": {},
   "source": [
    "# 教程使用指南\n",
    "\n",
    "本教程**需要 API 密钥**才能进行交互。如果您没有 API 密钥，可以通过阿里云、腾讯云、硅基流动等大模型服务平台注册获取。"
   ]
  },
  {
   "cell_type": "markdown",
   "metadata": {},
   "source": [
    "## 快速开始\n",
    "\n",
    "1. 将此代码库克隆到您的本地计算机。\n",
    "\n",
    "2. 通过运行以下命令安装所需的依赖项：\n",
    " "
   ]
  },
  {
   "cell_type": "code",
   "execution_count": null,
   "metadata": {},
   "outputs": [],
   "source": [
    "%pip install openai\n",
    "%pip install pickleshare"
   ]
  },
  {
   "cell_type": "markdown",
   "metadata": {},
   "source": [
    "3. 设置您的 API 密钥和模型名称。将 `\"your_api_key_here\"` 替换为您实际的 OpenAI API 密钥。"
   ]
  },
  {
   "cell_type": "code",
   "execution_count": null,
   "metadata": {},
   "outputs": [],
   "source": [
    "API_KEY = \"sk-lccxbqvhecabpwxojhssngfwrtcfdsxeelbfknmtxvhnyyab\"\n",
    "MODEL_NAME = \"Qwen/Qwen2.5-7B-Instruct\"\n",
    "MODEL_NAME = \"Qwen/Qwen2.5-14B-Instruct\"\n",
    "BASE_URL = \"https://api.siliconflow.cn/v1/\"\n",
    "# MODEL_NAME= \"jiutian-14B\"\n",
    "\n",
    "# 将 API_KEY 和 MODEL_NAME 变量存储在 IPython 存储中，以便在笔记本之间使用\n",
    "%store API_KEY\n",
    "%store MODEL_NAME\n",
    "%store BASE_URL"
   ]
  },
  {
   "cell_type": "markdown",
   "metadata": {},
   "source": [
    "4. 按顺序运行笔记本单元格，遵循提供的说明。"
   ]
  },
  {
   "cell_type": "markdown",
   "metadata": {},
   "source": [
    "---\n",
    "\n",
    "## 使用说明和技巧 💡\n",
    "\n",
    "- 本课程使用 GPT-3.5 Turbo，温度设置为 0。我们将在课程后面详细讨论温度参数。现在，您只需要了解这些设置会产生更加确定性的结果。本课程中的所有提示工程技术也适用于其他 OpenAI 模型，如 GPT-4 等。\n",
    "\n",
    "- 您可以使用 `Shift + Enter` 来执行单元格并移动到下一个单元格。\n",
    "\n",
    "- 当您到达教程页面的底部时，导航到文件夹中的下一个编号文件，或者如果您已完成该章节文件中的内容，请转到下一个编号文件夹。\n",
    "\n",
    "### OpenAI SDK 和 Chat Completions API\n",
    "我们将在整个教程中使用 [OpenAI Python SDK](https://github.com/openai/openai-python) 和 [Chat Completions API](https://platform.openai.com/docs/api-reference/chat)。\n",
    "\n",
    "以下是在本教程中运行提示的示例。首先，我们创建 `get_completion`，这是一个辅助函数，它向 OpenAI 发送提示并返回生成的响应。现在运行该单元格。"
   ]
  },
  {
   "cell_type": "code",
   "execution_count": null,
   "metadata": {},
   "outputs": [],
   "source": [
    "from openai import OpenAI\n",
    "\n",
    "client = OpenAI(\n",
    "    api_key=API_KEY,\n",
    "    base_url=\"https://api.siliconflow.cn/v1/\"\n",
    ")\n",
    "\n",
    "def get_completion(prompt: str):\n",
    "    response = client.chat.completions.create(\n",
    "        model=MODEL_NAME,\n",
    "        max_tokens=2000,\n",
    "        temperature=0.0,\n",
    "        messages=[\n",
    "            {\"role\": \"user\", \"content\": prompt}\n",
    "        ]\n",
    "    )\n",
    "    return response.choices[0].message.content"
   ]
  },
  {
   "cell_type": "markdown",
   "metadata": {},
   "source": [
    "现在我们将写出一个示例提示给 OpenAI 模型，并通过运行我们的 `get_completion` 辅助函数来打印模型的输出。运行下面的单元格将在其下方打印出模型的响应。\n",
    "\n",
    "请随意修改提示字符串，以获得模型的不同响应。"
   ]
  },
  {
   "cell_type": "code",
   "execution_count": null,
   "metadata": {},
   "outputs": [],
   "source": [
    "# 提示\n",
    "prompt = \"你好，AI助手！\"\n",
    "\n",
    "# 获取模型的响应\n",
    "print(get_completion(prompt))"
   ]
  },
  {
   "cell_type": "markdown",
   "metadata": {},
   "source": [
    "之前定义的 `API_KEY` 和 `MODEL_NAME` 变量将在整个教程中使用。只需确保从上到下运行每个教程页面的单元格即可。"
   ]
  }
 ],
 "metadata": {
  "kernelspec": {
   "display_name": ".venv",
   "language": "python",
   "name": "python3"
  },
  "language_info": {
   "codemirror_mode": {
    "name": "ipython",
    "version": 3
   },
   "file_extension": ".py",
   "mimetype": "text/x-python",
   "name": "python",
   "nbconvert_exporter": "python",
   "pygments_lexer": "ipython3",
   "version": "3.10.12"
  }
 },
 "nbformat": 4,
 "nbformat_minor": 2
}
