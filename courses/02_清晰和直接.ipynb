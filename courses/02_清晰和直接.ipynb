{
 "cells": [
  {
   "cell_type": "markdown",
   "metadata": {},
   "source": [
    "# 第二章：清晰和直接\n",
    "\n",
    "- [课程内容](#lesson)\n",
    "- [练习](#exercises)\n",
    "- [示例练习场](#example-playground)\n",
    "\n",
    "## 设置\n",
    "\n",
    "运行以下设置单元格来加载您的 API 密钥并建立 `get_completion` 辅助函数。"
   ]
  },
  {
   "cell_type": "code",
   "execution_count": null,
   "metadata": {},
   "outputs": [],
   "source": [
    "\n",
    "# 导入 Python 内置的正则表达式库\n",
    "import re\n",
    "from openai import OpenAI\n",
    "\n",
    "# 从 IPython 存储中检索 API_KEY 和 MODEL_NAME 变量\n",
    "%store -r API_KEY\n",
    "%store -r MODEL_NAME\n",
    "%store -r BASE_URL\n",
    "\n",
    "client = OpenAI(\n",
    "    api_key=API_KEY,\n",
    "    base_url=BASE_URL\n",
    ")\n",
    "\n",
    "# 注意我们将 max_tokens 改为 4K，以便在练习中允许更长的完成\n",
    "def get_completion(prompt: str, system_prompt=\"\"):\n",
    "    messages = []\n",
    "    if system_prompt:\n",
    "        messages.append({\"role\": \"system\", \"content\": system_prompt})\n",
    "    messages.append({\"role\": \"user\", \"content\": prompt})\n",
    "    \n",
    "    response = client.chat.completions.create(\n",
    "        model=MODEL_NAME,\n",
    "        max_tokens=4000,\n",
    "        temperature=0.0,\n",
    "        messages=messages\n",
    "    )\n",
    "    return response.choices[0].message.content"
   ]
  },
  {
   "cell_type": "markdown",
   "metadata": {},
   "source": [
    "---\n",
    "\n",
    "## 课程内容\n",
    "\n",
    "**AI 模型对清晰和直接的指令响应最佳。**\n",
    "\n",
    "把 AI 模型想象成任何一个刚入职的新人。**模型除了您明确告诉它的内容外，没有任何上下文**。就像您第一次向人类传达任务时一样，您越是以直接的方式向模型准确解释您想要什么，模型的响应就会越好、越准确。\n",
    "\n",
    "当有疑问时，请遵循**清晰提示的黄金法则**：\n",
    "- 将您的提示展示给同事或朋友，让他们自己按照指令执行，看看是否能产生您想要的结果。如果他们感到困惑，模型也会困惑。"
   ]
  },
  {
   "cell_type": "markdown",
   "metadata": {},
   "source": [
    "### 示例\n",
    "\n",
    "让我们以写诗这样的任务为例。（忽略任何音节不匹配 - 大语言模型在计算音节方面还不是很好。）"
   ]
  },
  {
   "cell_type": "code",
   "execution_count": null,
   "metadata": {},
   "outputs": [],
   "source": [
    "# 提示\n",
    "PROMPT = \"写一首关于机器人的俳句。\"\n",
    "\n",
    "# 打印模型的响应\n",
    "print(get_completion(PROMPT))"
   ]
  },
  {
   "cell_type": "markdown",
   "metadata": {},
   "source": [
    "这首俳句很不错，但用户可能希望需要添加前言。\n",
    "\n",
    "我们如何实现这一点？我们**直接要求**！"
   ]
  },
  {
   "cell_type": "code",
   "execution_count": null,
   "metadata": {},
   "outputs": [],
   "source": [
    "# 提示\n",
    "PROMPT = \"写一首关于机器人的俳句，需要添加前言\"\n",
    "\n",
    "# 打印模型的响应\n",
    "print(get_completion(PROMPT))"
   ]
  },
  {
   "cell_type": "markdown",
   "metadata": {},
   "source": [
    "这是另一个例子。让我们问模型谁是史上最佳篮球运动员。您可以看到，虽然模型列出了几个名字，但**它没有给出明确的\"最佳\"答案**。"
   ]
  },
  {
   "cell_type": "code",
   "execution_count": null,
   "metadata": {},
   "outputs": [],
   "source": [
    "# 提示\n",
    "PROMPT = \"谁是史上最伟大的篮球运动员？\"\n",
    "\n",
    "# 打印模型的响应\n",
    "print(get_completion(PROMPT))"
   ]
  },
  {
   "cell_type": "markdown",
   "metadata": {},
   "source": [
    "我们能让模型做出决定并选择一个最佳球员吗？能！直接问就行！"
   ]
  },
  {
   "cell_type": "code",
   "execution_count": null,
   "metadata": {},
   "outputs": [],
   "source": [
    "# 提示\n",
    "PROMPT = \"谁是史上最伟大的篮球运动员？是的，存在不同的观点，但如果你绝对必须选择一个球员，那会是谁？只给出一个球员\"\n",
    "\n",
    "# 打印模型的响应\n",
    "print(get_completion(PROMPT))"
   ]
  },
  {
   "cell_type": "markdown",
   "metadata": {},
   "source": [
    "如果您想在不更改上述任何内容的情况下试验课程提示，请滚动到课程笔记本的最底部访问[**示例练习场**](#example-playground)。"
   ]
  },
  {
   "cell_type": "markdown",
   "metadata": {},
   "source": [
    "---\n",
    "\n",
    "## 练习\n",
    "- [练习 2.1 - 西班牙语](#exercise-21---spanish)\n",
    "- [练习 2.2 - 只选一个球员](#exercise-22---one-player-only)\n",
    "- [练习 2.3 - 写故事](#exercise-23---write-a-story)"
   ]
  },
  {
   "cell_type": "markdown",
   "metadata": {},
   "source": [
    "### 练习 2.1 - 西班牙语\n",
    "修改 `SYSTEM_PROMPT` 让模型用西班牙语输出答案。"
   ]
  },
  {
   "cell_type": "code",
   "execution_count": null,
   "metadata": {},
   "outputs": [],
   "source": [
    "# 系统提示 - 这是您应该更改的唯一字段\n",
    "SYSTEM_PROMPT = \"[替换此文本]\"\n",
    "\n",
    "# 提示\n",
    "PROMPT = \"你好，AI助手，你好吗？\"\n",
    "\n",
    "# 获取模型的响应\n",
    "response = get_completion(PROMPT, SYSTEM_PROMPT)\n",
    "\n",
    "# 用于评分练习正确性的函数\n",
    "def grade_exercise(text):\n",
    "    return \"hola\" in text.lower()\n",
    "\n",
    "# 打印模型的响应和相应的评分\n",
    "print(response)\n",
    "print(\"\\n--------------------------- 评分 ---------------------------\")\n",
    "print(\"这个练习已正确解决:\", grade_exercise(response))"
   ]
  },
  {
   "cell_type": "markdown",
   "metadata": {},
   "source": [
    "❓ 如果您需要提示，请运行下面的单元格！"
   ]
  },
  {
   "cell_type": "code",
   "execution_count": null,
   "metadata": {},
   "outputs": [],
   "source": [
    "from hints import exercise_2_1_hint; print(exercise_2_1_hint)"
   ]
  },
  {
   "cell_type": "markdown",
   "metadata": {},
   "source": [
    "### 练习 2.2 - 只选一个球员\n",
    "\n",
    "修改 `PROMPT`，使模型不会含糊其辞，只回应**一个**特定球员的姓名，**没有其他词语或标点符号**。 "
   ]
  },
  {
   "cell_type": "code",
   "execution_count": null,
   "metadata": {},
   "outputs": [],
   "source": [
    "# 提示 - 这是您应该更改的唯一字段\n",
    "PROMPT = \"[替换此文本]\"\n",
    "\n",
    "# 获取模型的响应\n",
    "response = get_completion(PROMPT)\n",
    "\n",
    "# 用于评分练习正确性的函数\n",
    "def grade_exercise(text):\n",
    "    return text == \"迈克尔·乔丹\" or text == \"Michael Jordan\"\n",
    "\n",
    "# 打印模型的响应和相应的评分\n",
    "print(response)\n",
    "print(\"\\n--------------------------- 评分 ---------------------------\")\n",
    "print(\"这个练习已正确解决:\", grade_exercise(response))"
   ]
  },
  {
   "cell_type": "markdown",
   "metadata": {},
   "source": [
    "❓ 如果您需要提示，请运行下面的单元格！"
   ]
  },
  {
   "cell_type": "code",
   "execution_count": null,
   "metadata": {},
   "outputs": [],
   "source": [
    "from hints import exercise_2_2_hint; print(exercise_2_2_hint)"
   ]
  },
  {
   "cell_type": "markdown",
   "metadata": {},
   "source": [
    "### 练习 2.3 - 写故事\n",
    "\n",
    "修改 `PROMPT`，使模型回应尽可能长的内容。如果您的答案**超过 800 个词**，模型的响应将被评为正确。"
   ]
  },
  {
   "cell_type": "code",
   "execution_count": null,
   "metadata": {},
   "outputs": [],
   "source": [
    "# 提示 - 这是您应该更改的唯一字段\n",
    "PROMPT = \"[替换此文本]\"\n",
    "\n",
    "# 获取模型的响应\n",
    "response = get_completion(PROMPT)\n",
    "\n",
    "# 用于评分练习正确性的函数\n",
    "def grade_exercise(text):\n",
    "    words = len(text)\n",
    "    print(words)\n",
    "    return words >= 800\n",
    "\n",
    "# 打印模型的响应和相应的评分\n",
    "print(response)\n",
    "print(\"\\n--------------------------- 评分 ---------------------------\")\n",
    "print(\"这个练习已正确解决:\", grade_exercise(response))"
   ]
  },
  {
   "cell_type": "markdown",
   "metadata": {},
   "source": [
    "❓ 如果您需要提示，请运行下面的单元格！"
   ]
  },
  {
   "cell_type": "code",
   "execution_count": null,
   "metadata": {},
   "outputs": [],
   "source": [
    "from hints import exercise_2_3_hint; print(exercise_2_3_hint)"
   ]
  },
  {
   "cell_type": "markdown",
   "metadata": {},
   "source": [
    "### 恭喜！\n",
    "\n",
    "如果您已经解决了到目前为止的所有练习，您就可以进入下一章了。愉快的提示工程学习！"
   ]
  },
  {
   "cell_type": "markdown",
   "metadata": {},
   "source": [
    "---\n",
    "\n",
    "## 示例练习场\n",
    "\n",
    "这是一个供您自由试验本课程中展示的提示示例并调整提示以查看如何影响模型响应的区域。"
   ]
  },
  {
   "cell_type": "code",
   "execution_count": null,
   "metadata": {},
   "outputs": [],
   "source": [
    "# 提示\n",
    "PROMPT = \"写一首关于机器人的俳句。\"\n",
    "\n",
    "# 打印模型的响应\n",
    "print(get_completion(PROMPT))"
   ]
  },
  {
   "cell_type": "code",
   "execution_count": null,
   "metadata": {},
   "outputs": [],
   "source": [
    "# 提示\n",
    "PROMPT = \"写一首关于机器人的俳句。跳过前言，直接进入诗歌。\"\n",
    "\n",
    "# 打印模型的响应\n",
    "print(get_completion(PROMPT))"
   ]
  },
  {
   "cell_type": "code",
   "execution_count": null,
   "metadata": {},
   "outputs": [],
   "source": [
    "# 提示\n",
    "PROMPT = \"谁是史上最伟大的篮球运动员？\"\n",
    "\n",
    "# 打印模型的响应\n",
    "print(get_completion(PROMPT))"
   ]
  },
  {
   "cell_type": "code",
   "execution_count": null,
   "metadata": {},
   "outputs": [],
   "source": [
    "# 提示\n",
    "PROMPT = \"谁是史上最伟大的篮球运动员？是的，存在不同的观点，但如果你绝对必须选择一个球员，那会是谁？\"\n",
    "\n",
    "# 打印模型的响应\n",
    "print(get_completion(PROMPT))"
   ]
  }
 ],
 "metadata": {
  "kernelspec": {
   "display_name": ".venv",
   "language": "python",
   "name": "python3"
  },
  "language_info": {
   "codemirror_mode": {
    "name": "ipython",
    "version": 3
   },
   "file_extension": ".py",
   "mimetype": "text/x-python",
   "name": "python",
   "nbconvert_exporter": "python",
   "pygments_lexer": "ipython3",
   "version": "3.10.12"
  }
 },
 "nbformat": 4,
 "nbformat_minor": 2
}
