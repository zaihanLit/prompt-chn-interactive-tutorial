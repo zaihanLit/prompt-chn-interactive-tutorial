{
 "cells": [
  {
   "cell_type": "markdown",
   "metadata": {},
   "source": [
    "# 第六章：预知（逐步思考）\n",
    "\n",
    "- [课程内容](#lesson)\n",
    "- [练习](#exercises)\n",
    "- [示例练习场](#example-playground)\n",
    "\n",
    "## 设置\n",
    "\n",
    "运行以下设置单元格来加载您的 API 密钥并建立 `get_completion` 辅助函数。"
   ]
  },
  {
   "cell_type": "code",
   "execution_count": null,
   "metadata": {},
   "outputs": [],
   "source": [
    "\n",
    "\n",
    "# 导入 Python 内置的正则表达式库\n",
    "import re\n",
    "from openai import OpenAI\n",
    "\n",
    "# 从 IPython 存储中检索 API_KEY 和 MODEL_NAME 变量\n",
    "%store -r API_KEY\n",
    "%store -r MODEL_NAME\n",
    "%store -r BASE_URL\n",
    "\n",
    "client = OpenAI(\n",
    "    api_key=API_KEY,\n",
    "    base_url=BASE_URL\n",
    ")\n",
    "\n",
    "def get_completion(prompt: str, system_prompt=\"\", prefill=\"\"):\n",
    "    messages = []\n",
    "    if system_prompt:\n",
    "        messages.append({\"role\": \"system\", \"content\": system_prompt})\n",
    "    messages.append({\"role\": \"user\", \"content\": prompt})\n",
    "    if prefill:\n",
    "        messages.append({\"role\": \"assistant\", \"content\": prefill})\n",
    "    \n",
    "    response = client.chat.completions.create(\n",
    "        model=MODEL_NAME,\n",
    "        max_tokens=2000,\n",
    "        temperature=0.0,\n",
    "        messages=messages\n",
    "    )\n",
    "    return response.choices[0].message.content"
   ]
  },
  {
   "cell_type": "markdown",
   "metadata": {},
   "source": [
    "---\n",
    "\n",
    "## 课程内容\n",
    "\n",
    "如果有人叫醒您并立即开始问您几个复杂的问题，要求您立即回答，您会怎么做？可能不如给您时间**先思考答案**那么好。\n",
    "\n",
    "猜怎么着？AI 模型也是如此。\n",
    "\n",
    "**给模型时间逐步思考有时会使模型更准确**，特别是对于复杂任务。然而，**只有大声思考才算数**。您不能要求模型思考但只输出答案——在这种情况下，实际上没有发生思考。"
   ]
  },
  {
   "cell_type": "markdown",
   "metadata": {},
   "source": [
    "### 示例\n",
    "\n",
    "让我们看一个简单的计算问题，这类问题最能展示**让模型逐步思考的重要性**。这个问题看似简单，但大模型做起来确不容易。"
   ]
  },
  {
   "cell_type": "code",
   "execution_count": null,
   "metadata": {},
   "outputs": [],
   "source": [
    "# 提示\n",
    "PROMPT = \"\"\"197*971\"\"\"\n",
    "\n",
    "# 打印模型的响应\n",
    "print(get_completion(PROMPT))"
   ]
  },
  {
   "cell_type": "markdown",
   "metadata": {},
   "source": [
    "为了改善模型的响应，让我们**允许模型在回答之前先思考**。我们通过明确说明模型应该采取的步骤来处理和思考其任务来做到这一点。结合一点角色提示，这使模型能够更深入地理解评论。"
   ]
  },
  {
   "cell_type": "code",
   "execution_count": null,
   "metadata": {},
   "outputs": [],
   "source": [
    "# 提示\n",
    "PROMPT = \"\"\"计算197*971\n",
    "\n",
    "请在 <analysis> 标签中逐步分析这个计算问题，然后给出你的结论。\"\"\"\n",
    "\n",
    "# 打印模型的响应\n",
    "print(get_completion(PROMPT))"
   ]
  },
  {
   "cell_type": "markdown",
   "metadata": {},
   "source": [
    "看到区别了吗？通过要求模型逐步思考，它能够逐步进行分析，并打印出来，这样的方式有助于大模型做出正确的回答。\n",
    "\n",
    "这比简单回答\"给\"或\"不给\"要深刻得多。让我们看另一个展示思考重要性的例子。"
   ]
  },
  {
   "cell_type": "markdown",
   "metadata": {},
   "source": [
    "现在让我们要求模型逐步思考同样的问题。看看有什么区别："
   ]
  },
  {
   "cell_type": "code",
   "execution_count": null,
   "metadata": {},
   "outputs": [],
   "source": [
    "# 提示\n",
    "PROMPT = \"说出一部由1956年出生的演员主演的著名电影。\"\n",
    "\n",
    "# 打印模型的响应\n",
    "print(get_completion(PROMPT))"
   ]
  },
  {
   "cell_type": "markdown",
   "metadata": {},
   "source": [
    "让我们通过要求模型逐步思考来解决这个问题，这次使用 `<brainstorm>` 标签。"
   ]
  },
  {
   "cell_type": "code",
   "execution_count": null,
   "metadata": {},
   "outputs": [],
   "source": [
    "# 提示\n",
    "PROMPT = \"说出一部由1956年出生的演员主演的著名电影。首先在 <brainstorm> 标签中头脑风暴一些演员和他们的出生年份，然后给出你的答案。\"\n",
    "\n",
    "# 打印模型的响应\n",
    "print(get_completion(PROMPT))"
   ]
  },
  {
   "cell_type": "markdown",
   "metadata": {},
   "source": [
    "如果您想在不更改上述任何内容的情况下试验课程提示，请滚动到课程笔记本的最底部访问[**示例练习场**](#example-playground)。"
   ]
  },
  {
   "cell_type": "markdown",
   "metadata": {},
   "source": [
    "---\n",
    "\n",
    "## 练习\n",
    "- [练习 6.1 - 分类邮件](#exercise-61---classifying-emails)\n",
    "- [练习 6.2 - 邮件分类格式化](#exercise-62---email-classification-formatting)"
   ]
  },
  {
   "cell_type": "markdown",
   "metadata": {},
   "source": [
    "### 练习 6.1 - 分类邮件\n",
    "在这个练习中，我们将指导模型将邮件分类到以下类别：\n",
    "- (A) 售前问题\n",
    "- (B) 损坏或有缺陷的物品\n",
    "- (C) 账单问题\n",
    "- (D) 其他（请解释）\n",
    "\n",
    "在练习的第一部分，更改 `PROMPT` 以**使模型输出正确的分类且仅输出分类**。您的答案需要**包括正确选择的字母（A - D），带括号，以及类别名称**。\n",
    "\n",
    "参考 `EMAILS` 列表中每封邮件旁边的注释，了解该邮件应归类到哪个类别。"
   ]
  },
  {
   "cell_type": "code",
   "execution_count": null,
   "metadata": {},
   "outputs": [
    {
     "name": "stdout",
     "output_type": "stream",
     "text": [
      "--------------------------- 包含变量替换的完整提示 ---------------------------\n",
      "用户输入\n",
      "请将邮件你好 -- 我的Mixmaster4000在操作时发出奇怪的噪音。它还有点烟雾味和塑料味，像燃烧的电子产品。我需要更换。分类到以下类别：\n",
      "- (A) 售前问题\n",
      "- (B) 损坏或有缺陷的物品\n",
      "- (C) 账单问题\n",
      "- (D) 其他（请解释）\n",
      "\n",
      "助手回应\n",
      "\n",
      "\n",
      "------------------------------------- 模型的响应 -------------------------------------\n",
      "根据邮件内容，你的问题应该分类为：\n",
      "- (B) 损坏或有缺陷的物品\n",
      "\n",
      "因为你描述了你的Mixmaster4000在操作时发出奇怪的噪音，并且有烟雾味和塑料味，这表明设备可能存在物理损坏或制造缺陷。因此，你需要更换的是一个可能已经损坏或有缺陷的产品。\n",
      "\n",
      "------------------------------------------ 评分 ------------------------------------------\n",
      "此练习是否正确解决: True \n",
      "\n",
      "\n",
      "\n",
      "\n",
      "\n",
      "\n",
      "--------------------------- 包含变量替换的完整提示 ---------------------------\n",
      "用户输入\n",
      "请将邮件我可以用我的Mixmaster 4000来搅拌油漆吗，还是只能用来搅拌食物？分类到以下类别：\n",
      "- (A) 售前问题\n",
      "- (B) 损坏或有缺陷的物品\n",
      "- (C) 账单问题\n",
      "- (D) 其他（请解释）\n",
      "\n",
      "助手回应\n",
      "\n",
      "\n",
      "------------------------------------- 模型的响应 -------------------------------------\n",
      "该邮件询问的是关于Mixmaster 4000的使用范围，具体是询问是否可以用来搅拌油漆，还是只能用来搅拌食物。这属于产品功能和使用方法的咨询，因此应该归类为：\n",
      "\n",
      "- (A) 售前问题\n",
      "\n",
      "因为这是在购买或使用前对产品功能的疑问，而不是关于产品损坏、账单问题或售后服务的问题。\n",
      "\n",
      "------------------------------------------ 评分 ------------------------------------------\n",
      "此练习是否正确解决: True \n",
      "\n",
      "\n",
      "\n",
      "\n",
      "\n",
      "\n",
      "--------------------------- 包含变量替换的完整提示 ---------------------------\n",
      "用户输入\n",
      "请将邮件我已经等了4个月，取消后我的月费还没有停止！！到底怎么回事？？？分类到以下类别：\n",
      "- (A) 售前问题\n",
      "- (B) 损坏或有缺陷的物品\n",
      "- (C) 账单问题\n",
      "- (D) 其他（请解释）\n",
      "\n",
      "助手回应\n",
      "\n",
      "\n",
      "------------------------------------- 模型的响应 -------------------------------------\n",
      "该邮件内容反映的是关于月费在取消服务后仍然被收取的问题，因此最合适的分类是：\n",
      "\n",
      "- (C) 账单问题\n",
      "\n",
      "这个问题涉及到用户在取消服务后仍然被收取费用的情况，这通常与账单处理或自动续费设置有关，而不是售前咨询、商品质量或其它服务问题。\n",
      "\n",
      "------------------------------------------ 评分 ------------------------------------------\n",
      "此练习是否正确解决: True \n",
      "\n",
      "\n",
      "\n",
      "\n",
      "\n",
      "\n",
      "--------------------------- 包含变量替换的完整提示 ---------------------------\n",
      "用户输入\n",
      "请将邮件我怎么到这里的，我不擅长电脑。求助。分类到以下类别：\n",
      "- (A) 售前问题\n",
      "- (B) 损坏或有缺陷的物品\n",
      "- (C) 账单问题\n",
      "- (D) 其他（请解释）\n",
      "\n",
      "助手回应\n",
      "\n",
      "\n",
      "------------------------------------- 模型的响应 -------------------------------------\n",
      "根据邮件内容“我怎么到这里的，我不擅长电脑。求助。”，这封邮件似乎是在寻求帮助解决一个与使用电脑或网站相关的问题，而不是关于购买前的咨询、物品的质量问题或账单问题。因此，最合适的分类是：\n",
      "\n",
      "- (D) 其他（请解释）\n",
      "\n",
      "这个分类适用于那些不明确属于售前问题、损坏或有缺陷的物品、账单问题的求助信息。在这种情况下，用户可能需要帮助理解如何使用某个网站或服务，或者需要指导如何完成某个电脑操作。\n",
      "\n",
      "------------------------------------------ 评分 ------------------------------------------\n",
      "此练习是否正确解决: True \n",
      "\n",
      "\n",
      "\n",
      "\n",
      "\n",
      "\n"
     ]
    }
   ],
   "source": [
    "# 包含可变内容占位符的提示模板\n",
    "PROMPT = \"\"\"请将此邮件分类为绿色或蓝色：{email}\"\"\"\n",
    "\n",
    "# 模型响应的预填充（如果有）\n",
    "PREFILL = \"\"\n",
    "\n",
    "# 作为列表存储的变量内容\n",
    "EMAILS = [\n",
    "    \"你好 -- 我的Mixmaster4000在操作时发出奇怪的噪音。它还有点烟雾味和塑料味，像燃烧的电子产品。我需要更换。\", # (B) 损坏或有缺陷的物品\n",
    "    \"我可以用我的Mixmaster 4000来搅拌油漆吗，还是只能用来搅拌食物？\", # (A) 售前问题 OR (D) 其他（请解释）\n",
    "    \"我已经等了4个月，取消后我的月费还没有停止！！到底怎么回事？？？\", # (C) 账单问题\n",
    "    \"我怎么到这里的，我不擅长电脑。求助。\" # (D) 其他（请解释）\n",
    "]\n",
    "\n",
    "# 正确分类存储为列表的列表，以适应每封邮件可能有多个正确分类的情况\n",
    "ANSWERS = [\n",
    "    [\"B\"],\n",
    "    [\"A\",\"D\"],\n",
    "    [\"C\"],\n",
    "    [\"D\"]\n",
    "]\n",
    "\n",
    "# 用于正则表达式评分的每个类别的字符串值字典\n",
    "REGEX_CATEGORIES = {\n",
    "    \"A\": \"A\\) 售前\",\n",
    "    \"B\": \"B\\) 损坏\",\n",
    "    \"C\": \"C\\) 账单\",\n",
    "    \"D\": \"D\\) 其他\"\n",
    "}\n",
    "\n",
    "# 遍历邮件列表\n",
    "for i,email in enumerate(EMAILS):\n",
    "    \n",
    "    # 将邮件文本替换到邮件占位符变量中\n",
    "    formatted_prompt = PROMPT.format(email=email)\n",
    "   \n",
    "    # 获取模型的响应\n",
    "    response = get_completion(formatted_prompt, prefill=PREFILL)\n",
    "\n",
    "    # 对模型的响应进行评分\n",
    "    grade = any([bool(re.search(REGEX_CATEGORIES[ans], response)) for ans in ANSWERS[i]])\n",
    "    \n",
    "    # 打印模型的响应\n",
    "    print(\"--------------------------- 包含变量替换的完整提示 ---------------------------\")\n",
    "    print(\"用户输入\")\n",
    "    print(formatted_prompt)\n",
    "    print(\"\\n助手回应\")\n",
    "    print(PREFILL)\n",
    "    print(\"\\n------------------------------------- 模型的响应 -------------------------------------\")\n",
    "    print(response)\n",
    "    print(\"\\n------------------------------------------ 评分 ------------------------------------------\")\n",
    "    print(\"此练习是否正确解决:\", grade, \"\\n\\n\\n\\n\\n\\n\")"
   ]
  },
  {
   "cell_type": "markdown",
   "metadata": {},
   "source": [
    "❓ 如果您需要提示，请运行下面的单元格！"
   ]
  },
  {
   "cell_type": "code",
   "execution_count": 49,
   "metadata": {},
   "outputs": [
    {
     "name": "stdout",
     "output_type": "stream",
     "text": [
      "The grading function in this exercise is looking for the correct categorization letter + the closing parentheses and the first letter of the name of the category, such as \"C) B\" or \"B) B\" etc.\n",
      "Let's take this exercise step by step:\t\t\t\t\t\t\t\t\t\t\n",
      "1.\tHow will Claude know what categories you want to use? Tell it! Include the four categories you want directly in the prompt. Be sure to include the parenthetical letters as well for easy classification. Feel free to use XML tags to organize your prompt and make clear to Claude where the categories begin and end.\t\t\t\t\t\t\t\t\t\n",
      "2.\tTry to cut down on superfluous text so that Claude immediately answers with the classification and ONLY the classification. There are several ways to do this, from speaking for Claude (providing anything from the beginning of the sentence to a single open parenthesis so that Claude knows you want the parenthetical letter as the first part of the answer) to telling Claude that you want the classification and only the classification, skipping the preamble.\n",
      "Refer to Chapters 2 and 5 if you want a refresher on these techniques.\t\t\t\t\t\t\t\n",
      "3.\tClaude may still be incorrectly categorizing or not including the names of the categories when it answers. Fix this by telling Claude to include the full category name in its answer.)\t\t\t\t\t\t\t\t\n",
      "4.\tBe sure that you still have {email} somewhere in your prompt template so that we can properly substitute in emails for Claude to evaluate.\n"
     ]
    }
   ],
   "source": [
    "from hints import exercise_6_1_hint; print(exercise_6_1_hint)"
   ]
  },
  {
   "cell_type": "markdown",
   "metadata": {},
   "source": [
    "仍然遇到困难？运行下面的单元格查看示例解决方案。"
   ]
  },
  {
   "cell_type": "code",
   "execution_count": null,
   "metadata": {},
   "outputs": [],
   "source": [
    "from hints import exercise_6_1_solution; print(exercise_6_1_solution)"
   ]
  },
  {
   "cell_type": "markdown",
   "metadata": {},
   "source": [
    "### 练习 6.2 - 邮件分类格式化\n",
    "在这个练习中，我们将优化上述提示的输出，以产生完全按照我们想要的格式的答案。\n",
    "\n",
    "使用您喜欢的输出格式化技术，让模型仅将正确分类的字母包装在 `<answer></answer>` 标签中。例如，第一封邮件的答案应该包含确切的字符串 `<answer>B</answer>`。\n",
    "\n",
    "如果您忘记了每封邮件对应的正确字母类别，请参考 `EMAILS` 列表中每封邮件旁边的注释。"
   ]
  },
  {
   "cell_type": "code",
   "execution_count": 51,
   "metadata": {},
   "outputs": [
    {
     "name": "stdout",
     "output_type": "stream",
     "text": [
      "--------------------------- 包含变量替换的完整提示 ---------------------------\n",
      "用户输入\n",
      "请将此邮件分类为绿色或蓝色：你好 -- 我的Mixmaster4000在操作时发出奇怪的噪音。它还有点烟雾味和塑料味，像燃烧的电子产品。我需要更换。\n",
      "\n",
      "助手回应\n",
      "\n",
      "\n",
      "------------------------------------- 模型的响应 -------------------------------------\n",
      "根据邮件的内容，这里并没有直接提到是绿色还是蓝色的分类。不过，从邮件的内容来看，用户报告了他们设备（Mixmaster4000）出现的问题，包括奇怪的噪音、烟雾味和塑料燃烧的味道。这种描述更倾向于需要紧急处理的技术支持请求。如果这里的“绿色”和“蓝色”是代表不同类型的请求或优先级，那么根据描述的问题严重性，这可能更适合被分类为“红色”（表示紧急）或“黄色”（表示需要尽快处理），但既然题目要求选择“绿色”或“蓝色”，并且没有提供具体的分类标准，我们可能需要假设一个情景。\n",
      "\n",
      "如果“绿色”代表一般性问题或较低优先级的请求，而“蓝色”代表更紧急或需要立即关注的问题，那么根据邮件中描述的设备出现的严重问题（如奇怪的噪音、烟雾和燃烧的味道），这封邮件更可能被分类为“蓝色”，因为它暗示了设备可能存在严重的故障，需要尽快处理以避免进一步的损害或安全风险。\n",
      "\n",
      "因此，根据上述分析，我会将此邮件分类为“蓝色”。\n",
      "\n",
      "------------------------------------------ 评分 ------------------------------------------\n",
      "此练习是否正确解决: False \n",
      "\n",
      "\n",
      "\n",
      "\n",
      "\n",
      "\n",
      "--------------------------- 包含变量替换的完整提示 ---------------------------\n",
      "用户输入\n",
      "请将此邮件分类为绿色或蓝色：我可以用我的Mixmaster 4000来搅拌油漆吗，还是只能用来搅拌食物？\n",
      "\n",
      "助手回应\n",
      "\n",
      "\n",
      "------------------------------------- 模型的响应 -------------------------------------\n",
      "从邮件的内容来看，这封邮件提到了一个名为\"Mixmaster 4000\"的设备，并询问它是否可以用来搅拌油漆，还是只能用来搅拌食物。根据邮件的主题和内容，我们可以将其分类为绿色，因为油漆通常与建筑、装修等相关的颜色为绿色，而食物则通常与蓝色（比如电子邮件分类中的\"蓝色\"可能代表日常或家用电器相关的问题）相关。但是，这里的分类更多是基于主题内容的象征性关联，而不是严格的分类标准。如果这里的\"绿色\"和\"蓝色\"有特定的分类标准，可能需要更多的背景信息来准确分类。根据邮件内容，它更倾向于与工具或设备的使用相关，因此更接近于\"绿色\"类别。\n",
      "\n",
      "------------------------------------------ 评分 ------------------------------------------\n",
      "此练习是否正确解决: False \n",
      "\n",
      "\n",
      "\n",
      "\n",
      "\n",
      "\n",
      "--------------------------- 包含变量替换的完整提示 ---------------------------\n",
      "用户输入\n",
      "请将此邮件分类为绿色或蓝色：我已经等了4个月，取消后我的月费还没有停止！！到底怎么回事？？？\n",
      "\n",
      "助手回应\n",
      "\n",
      "\n",
      "------------------------------------- 模型的响应 -------------------------------------\n",
      "从邮件的内容来看，这封邮件表达的是用户对于服务取消后费用未停止的不满和疑问。这种类型的邮件通常与客户支持、服务争议或账单问题相关。根据常见的分类标准，如果\"绿色\"代表积极、请求帮助或信息咨询的邮件，而\"蓝色\"代表中立或常规事务性的邮件，那么这封邮件更倾向于表达用户的不满和寻求解决方案，因此更适合归类为\"绿色\"，因为它明确表达了用户需要帮助解决的问题。如果这里的\"绿色\"和\"蓝色\"有其他特定含义，请提供更多信息以便更准确地分类。\n",
      "\n",
      "------------------------------------------ 评分 ------------------------------------------\n",
      "此练习是否正确解决: False \n",
      "\n",
      "\n",
      "\n",
      "\n",
      "\n",
      "\n",
      "--------------------------- 包含变量替换的完整提示 ---------------------------\n",
      "用户输入\n",
      "请将此邮件分类为绿色或蓝色：我怎么到这里的，我不擅长电脑。求助。\n",
      "\n",
      "助手回应\n",
      "\n",
      "\n",
      "------------------------------------- 模型的响应 -------------------------------------\n",
      "根据您提供的邮件内容，没有直接的信息表明这封邮件应该被分类为绿色或蓝色。邮件内容主要是求助性质的，表达了发件人不擅长使用电脑，并请求帮助。如果绿色和蓝色的分类标准是基于邮件的主题或内容，您可能需要提供更多的背景信息或分类标准。例如，如果绿色代表求助或支持类邮件，而蓝色代表技术问题，那么根据内容，这封邮件可能更适合被分类为绿色。请提供更多的分类标准或上下文信息，以便更准确地进行分类。\n",
      "\n",
      "------------------------------------------ 评分 ------------------------------------------\n",
      "此练习是否正确解决: False \n",
      "\n",
      "\n",
      "\n",
      "\n",
      "\n",
      "\n"
     ]
    }
   ],
   "source": [
    "# 包含可变内容占位符的提示模板\n",
    "PROMPT = \"\"\"请将此邮件分类为绿色或蓝色：{email}\"\"\"\n",
    "\n",
    "# 模型响应的预填充（如果有）\n",
    "PREFILL = \"\"\n",
    "\n",
    "# 作为列表存储的变量内容\n",
    "EMAILS = [\n",
    "    \"你好 -- 我的Mixmaster4000在操作时发出奇怪的噪音。它还有点烟雾味和塑料味，像燃烧的电子产品。我需要更换。\", # (B) 损坏或有缺陷的物品\n",
    "    \"我可以用我的Mixmaster 4000来搅拌油漆吗，还是只能用来搅拌食物？\", # (A) 售前问题 OR (D) 其他（请解释）\n",
    "    \"我已经等了4个月，取消后我的月费还没有停止！！到底怎么回事？？？\", # (C) 账单问题\n",
    "    \"我怎么到这里的，我不擅长电脑。求助。\" # (D) 其他（请解释）\n",
    "]\n",
    "\n",
    "# 正确分类存储为列表的列表，以适应每封邮件可能有多个正确分类的情况\n",
    "ANSWERS = [\n",
    "    [\"B\"],\n",
    "    [\"A\",\"D\"],\n",
    "    [\"C\"],\n",
    "    [\"D\"]\n",
    "]\n",
    "\n",
    "# 用于正则表达式评分的每个类别的字符串值字典\n",
    "REGEX_CATEGORIES = {\n",
    "    \"A\": \"<answer>A</answer>\",\n",
    "    \"B\": \"<answer>B</answer>\",\n",
    "    \"C\": \"<answer>C</answer>\",\n",
    "    \"D\": \"<answer>D</answer>\"\n",
    "}\n",
    "\n",
    "# 遍历邮件列表\n",
    "for i,email in enumerate(EMAILS):\n",
    "    \n",
    "    # 将邮件文本替换到邮件占位符变量中\n",
    "    formatted_prompt = PROMPT.format(email=email)\n",
    "   \n",
    "    # 获取模型的响应\n",
    "    response = get_completion(formatted_prompt, prefill=PREFILL)\n",
    "\n",
    "    # 对模型的响应进行评分\n",
    "    grade = any([bool(re.search(REGEX_CATEGORIES[ans], response)) for ans in ANSWERS[i]])\n",
    "    \n",
    "    # 打印模型的响应\n",
    "    print(\"--------------------------- 包含变量替换的完整提示 ---------------------------\")\n",
    "    print(\"用户输入\")\n",
    "    print(formatted_prompt)\n",
    "    print(\"\\n助手回应\")\n",
    "    print(PREFILL)\n",
    "    print(\"\\n------------------------------------- 模型的响应 -------------------------------------\")\n",
    "    print(response)\n",
    "    print(\"\\n------------------------------------------ 评分 ------------------------------------------\")\n",
    "    print(\"此练习是否正确解决:\", grade, \"\\n\\n\\n\\n\\n\\n\")"
   ]
  },
  {
   "cell_type": "markdown",
   "metadata": {},
   "source": [
    "❓ 如果您需要提示，请运行下面的单元格！"
   ]
  },
  {
   "cell_type": "code",
   "execution_count": null,
   "metadata": {},
   "outputs": [],
   "source": [
    "from hints import exercise_6_2_hint; print(exercise_6_2_hint)"
   ]
  },
  {
   "cell_type": "markdown",
   "metadata": {},
   "source": [
    "### 恭喜！\n",
    "\n",
    "如果您已经解决了到此为止的所有练习，您就可以进入下一章了。祝您提示愉快！"
   ]
  },
  {
   "cell_type": "markdown",
   "metadata": {},
   "source": [
    "---\n",
    "\n",
    "## 示例练习场\n",
    "\n",
    "这是一个供您自由试验本课程中显示的提示示例的区域，您可以调整提示以查看它如何影响模型的响应。"
   ]
  },
  {
   "cell_type": "code",
   "execution_count": null,
   "metadata": {},
   "outputs": [],
   "source": [
    "# 提示\n",
    "PROMPT = \"\"\"197*971\"\"\"\n",
    "\n",
    "# 打印模型的响应\n",
    "print(get_completion(PROMPT))"
   ]
  },
  {
   "cell_type": "code",
   "execution_count": null,
   "metadata": {},
   "outputs": [],
   "source": [
    "# 提示\n",
    "PROMPT = \"\"\"计算197*971\n",
    "\n",
    "请在 <analysis> 标签中逐步分析这个计算问题，然后给出你的结论。\"\"\"\n",
    "\n",
    "# 打印模型的响应\n",
    "print(get_completion(PROMPT))"
   ]
  },
  {
   "cell_type": "code",
   "execution_count": null,
   "metadata": {},
   "outputs": [],
   "source": [
    "# 提示\n",
    "PROMPT = \"说出一部由1956年出生的演员主演的著名电影。\"\n",
    "\n",
    "# 打印模型的响应\n",
    "print(get_completion(PROMPT))"
   ]
  },
  {
   "cell_type": "code",
   "execution_count": null,
   "metadata": {},
   "outputs": [],
   "source": [
    "# 提示\n",
    "PROMPT = \"说出一部由1956年出生的演员主演的著名电影。首先在 <brainstorm> 标签中头脑风暴一些演员和他们的出生年份，然后给出你的答案。\"\n",
    "\n",
    "# 打印模型的响应\n",
    "print(get_completion(PROMPT))"
   ]
  }
 ],
 "metadata": {
  "kernelspec": {
   "display_name": ".venv",
   "language": "python",
   "name": "python3"
  },
  "language_info": {
   "codemirror_mode": {
    "name": "ipython",
    "version": 3
   },
   "file_extension": ".py",
   "mimetype": "text/x-python",
   "name": "python",
   "nbconvert_exporter": "python",
   "pygments_lexer": "ipython3",
   "version": "3.10.12"
  }
 },
 "nbformat": 4,
 "nbformat_minor": 2
}
