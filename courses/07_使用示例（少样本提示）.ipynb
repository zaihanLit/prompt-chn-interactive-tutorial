{
 "cells": [
  {
   "cell_type": "markdown",
   "metadata": {},
   "source": [
    "# 第七章：使用示例（少样本提示）\n",
    "\n",
    "- [课程内容](#lesson)\n",
    "- [练习](#exercises)\n",
    "- [示例练习场](#example-playground)\n",
    "\n",
    "## 设置\n",
    "\n",
    "运行以下设置单元格来加载您的 API 密钥并建立 `get_completion` 辅助函数。"
   ]
  },
  {
   "cell_type": "code",
   "execution_count": null,
   "metadata": {},
   "outputs": [],
   "source": [
    "# 导入 Python 内置的正则表达式库\n",
    "import re\n",
    "from openai import OpenAI\n",
    "\n",
    "# 从 IPython 存储中检索 API_KEY 和 MODEL_NAME 变量\n",
    "%store -r API_KEY\n",
    "%store -r MODEL_NAME\n",
    "%store -r BASE_URL\n",
    "\n",
    "client = OpenAI(\n",
    "    api_key=API_KEY,\n",
    "    base_url=BASE_URL\n",
    ")\n",
    "\n",
    "def get_completion(prompt: str, system_prompt=\"\", prefill=\"\"):\n",
    "    messages = []\n",
    "    if system_prompt:\n",
    "        messages.append({\"role\": \"system\", \"content\": system_prompt})\n",
    "    messages.append({\"role\": \"user\", \"content\": prompt})\n",
    "    if prefill:\n",
    "        messages.append({\"role\": \"assistant\", \"content\": prefill})\n",
    "    \n",
    "    response = client.chat.completions.create(\n",
    "        model=MODEL_NAME,\n",
    "        max_tokens=2000,\n",
    "        temperature=0.0,\n",
    "        messages=messages\n",
    "    )\n",
    "    return response.choices[0].message.content"
   ]
  },
  {
   "cell_type": "markdown",
   "metadata": {},
   "source": [
    "---\n",
    "\n",
    "## 课程内容\n",
    "\n",
    "**给模型提供您希望它如何行为（或不希望它如何行为）的示例是极其有效的**，可以用于：\n",
    "- 获得正确的答案\n",
    "- 获得正确格式的答案\n",
    "\n",
    "这种提示方式也被称为\"**少样本提示**\"（few-shot prompting）。您也可能遇到\"零样本\"（zero-shot）、\"n样本\"（n-shot）或\"单样本\"（one-shot）等术语。\"样本\"的数量指的是提示中使用了多少个示例。"
   ]
  },
  {
   "cell_type": "markdown",
   "metadata": {},
   "source": [
    "### 示例\n",
    "\n",
    "假设您是一个开发者，试图构建一个回答儿童问题的\"家长机器人\"。**模型的默认响应相当正式和机械化**。这会让孩子感到失望。"
   ]
  },
  {
   "cell_type": "code",
   "execution_count": null,
   "metadata": {},
   "outputs": [],
   "source": [
    "# 提示\n",
    "PROMPT = \"圣诞老人会在圣诞节给我带礼物吗？\"\n",
    "\n",
    "# 打印模型的响应\n",
    "print(get_completion(PROMPT))"
   ]
  },
  {
   "cell_type": "markdown",
   "metadata": {},
   "source": [
    "您可以花时间描述您想要的语调，但**给模型提供一些理想响应的示例**会更容易。"
   ]
  },
  {
   "cell_type": "code",
   "execution_count": null,
   "metadata": {},
   "outputs": [],
   "source": [
    "# 提示\n",
    "PROMPT = \"\"\"请完成对话，以\"A\"的身份写出下一行。\n",
    "Q: 牙仙真的存在吗？\n",
    "A: 当然存在，亲爱的。把你的牙齿包好放在枕头下面。明天早上可能会有惊喜等着你。\n",
    "Q: 圣诞老人会在圣诞节给我带礼物吗？\"\"\"\n",
    "\n",
    "# 打印模型的响应\n",
    "print(get_completion(PROMPT))"
   ]
  },
  {
   "cell_type": "markdown",
   "metadata": {},
   "source": [
    "在下面的格式化示例中，我们可以逐步指导模型如何提取姓名和职业并按我们想要的方式格式化，或者我们可以**提供一些格式正确的示例，让模型从中推断**。注意`助手`回合中的`<individuals>`，这有助于模型开个好头。"
   ]
  },
  {
   "cell_type": "code",
   "execution_count": null,
   "metadata": {},
   "outputs": [],
   "source": [
    "# 包含可变内容占位符的提示模板\n",
    "PROMPT = \"\"\"\n",
    "#示例1\n",
    "## 输入\n",
    "银雾谷，一个迷人的村庄，是一群非凡人物的家园。\n",
    "其中有李明医生，一位神经外科医生，他在地区医疗中心革新了手术技术。\n",
    "陈雅是一位创新的建筑师，她用可持续且令人惊叹的设计改变了村庄的景观。\n",
    "当地剧院因伊万·科瓦奇（一位专业训练的音乐家和作曲家）的迷人交响乐而增色不少。\n",
    "伊莎贝拉·托雷斯是一位自学成才的厨师，对当地食材充满热情，她创造了一家农场到餐桌的餐厅，成为美食爱好者的必访之地。\n",
    "这些杰出的个人，每个人都有独特的才能，为银雾谷生活的活力画卷做出了贡献。\n",
    "## 输出\n",
    "<individuals>\n",
    "1. 李明医生 [神经外科医生]\n",
    "2. 陈雅 [建筑师]\n",
    "3. 伊万·科瓦奇 [音乐家和作曲家]\n",
    "4. 伊莎贝拉·托雷斯 [厨师]\n",
    "</individuals>\n",
    "#示例2\n",
    "## 输入\n",
    "在镇中心，厨师奥利弗·汉密尔顿用他的农场到餐桌餐厅\"绿盘子\"改变了当地的烹饪场景。奥利弗致力于采购当地有机食材，为这家餐厅赢得了美食评论家和当地人的好评。\n",
    "沿街而下，您会找到河滨格罗夫图书馆，首席图书管理员伊丽莎白·陈一直努力为所有人创造一个温馨包容的空间。她努力扩展图书馆的服务并为儿童建立阅读项目，对该镇的识字率产生了重大影响。\n",
    "当您漫步在迷人的镇广场时，您会被装饰墙壁的美丽壁画所吸引。这些杰作是著名艺术家伊莎贝拉·托雷斯的作品，她捕捉河滨格罗夫精髓的才能让这个小镇焕发生机。\n",
    "河滨格罗夫的体育成就也值得注意，这要归功于前奥运游泳运动员转教练的马库斯·詹金斯。马库斯用他的经验和热情训练镇上的年轻人，带领河滨格罗夫游泳队获得了几个地区冠军。\n",
    "## 输出\n",
    "<individuals>\n",
    "1. 奥利弗·汉密尔顿 [厨师]\n",
    "2. 伊丽莎白·陈 [图书管理员]\n",
    "3. 伊莎贝拉·托雷斯 [艺术家]\n",
    "4. 马库斯·詹金斯 [教练]\n",
    "</individuals>\n",
    "\n",
    "橡树谷，一个迷人的小镇，是三位杰出人物的家园，他们的技能和奉献精神对社区产生了持久的影响。\n",
    "在镇上繁忙的农贸市场，您会找到劳拉·西蒙斯，一位热情的有机农民，以其美味和可持续种植的农产品而闻名。她致力于推广健康饮食，激励镇上拥抱更加环保的生活方式。\n",
    "在橡树谷的社区中心，凯文·阿尔瓦雷斯是一位技艺精湛的舞蹈教练，为各个年龄段的人们带来了运动的乐趣。他的包容性舞蹈课程在居民中培养了团结感和自我表达，丰富了当地的艺术场景。\n",
    "最后，雷切尔·奥康纳是一位不知疲倦的志愿者，她将时间奉献给各种慈善活动。她致力于改善他人生活，在橡树谷内创造强烈的社区意识方面起到了重要作用。\n",
    "通过他们独特的才能和坚定的奉献精神，劳拉、凯文和雷切尔将自己融入了橡树谷的结构中，帮助创造了一个充满活力和繁荣的小镇。\"\"\"\n",
    "\n",
    "# 模型响应的预填充\n",
    "PREFILL = \"<individuals>\"\n",
    "\n",
    "# 打印模型的响应\n",
    "print(\"--------------------------- 包含变量替换的完整提示 ---------------------------\")\n",
    "print(\"用户输入:\")\n",
    "print(PROMPT)\n",
    "print(\"\\n助手回应:\")\n",
    "print(PREFILL)\n",
    "print(\"\\n------------------------------------- 模型的响应 -------------------------------------\")\n",
    "print(get_completion(PROMPT, prefill=PREFILL))"
   ]
  },
  {
   "cell_type": "markdown",
   "metadata": {},
   "source": [
    "如果您想在不更改上述任何内容的情况下试验课程提示，请滚动到课程笔记本的最底部访问[**示例练习场**](#example-playground)。"
   ]
  },
  {
   "cell_type": "markdown",
   "metadata": {},
   "source": [
    "---\n",
    "\n",
    "## 练习\n",
    "- [练习 7.1 - 通过示例进行邮件格式化](#exercise-71---email-formatting-via-examples)"
   ]
  },
  {
   "cell_type": "markdown",
   "metadata": {},
   "source": [
    "### 练习 7.1 - 通过示例进行邮件格式化\n",
    "我们将重做练习 6.2，但这次，我们将编辑 `PROMPT` 以使用邮件的\"少样本\"示例加上正确的分类（和格式化）来让模型输出正确答案。我们希望模型输出的*最后一个*字母是类别的字母。\n",
    "\n",
    "如果您忘记了每封邮件对应的正确字母类别，请参考 `EMAILS` 列表中每封邮件旁边的注释。\n",
    "\n",
    "请记住，这些是邮件的类别：\n",
    "- (A) 售前问题\n",
    "- (B) 损坏或有缺陷的物品\n",
    "- (C) 账单问题\n",
    "- (D) 其他（请解释）\t\t\t\t\t\t\t\t"
   ]
  },
  {
   "cell_type": "code",
   "execution_count": null,
   "metadata": {},
   "outputs": [],
   "source": [
    "# 包含可变内容占位符的提示模板\n",
    "PROMPT = \"\"\"请将此邮件分类为绿色或蓝色：{email}\"\"\"\n",
    "\n",
    "# 模型响应的预填充\n",
    "PREFILL = \"\"\n",
    "\n",
    "# 作为列表存储的变量内容\n",
    "EMAILS = [\n",
    "    \"你好 -- 我的Mixmaster4000在操作时发出奇怪的噪音。它还有点烟雾味和塑料味，像燃烧的电子产品。我需要更换。\", # (B) 损坏或有缺陷的物品\n",
    "    \"我可以用我的Mixmaster 4000来搅拌油漆吗，还是只能用来搅拌食物？\", # (A) 售前问题 OR (D) 其他（请解释）\n",
    "    \"我已经等了4个月，取消后我的月费还没有停止！！到底怎么回事？？？\", # (C) 账单问题\n",
    "    \"我怎么到这里的，我不擅长电脑。求助。\" # (D) 其他（请解释）\n",
    "]\n",
    "\n",
    "# 正确分类存储为列表的列表，以适应每封邮件可能有多个正确分类的情况\n",
    "ANSWERS = [\n",
    "    [\"B\"],\n",
    "    [\"A\",\"D\"],\n",
    "    [\"C\"],\n",
    "    [\"D\"]\n",
    "]\n",
    "\n",
    "# 遍历邮件列表\n",
    "for i,email in enumerate(EMAILS):\n",
    "    \n",
    "    # 将邮件文本替换到邮件占位符变量中\n",
    "    formatted_prompt = PROMPT.format(email=email)\n",
    "   \n",
    "    # 获取模型的响应\n",
    "    response = get_completion(formatted_prompt, prefill=PREFILL)\n",
    "\n",
    "    # 对模型的响应进行评分\n",
    "    grade = any([bool(re.search(ans, response[-1])) for ans in ANSWERS[i]])\n",
    "    \n",
    "    # 打印模型的响应\n",
    "    print(\"--------------------------- 包含变量替换的完整提示 ---------------------------\")\n",
    "    print(\"用户输入\")\n",
    "    print(formatted_prompt)\n",
    "    print(\"\\n助手回应\")\n",
    "    print(PREFILL)\n",
    "    print(\"\\n------------------------------------- 模型的响应 -------------------------------------\")\n",
    "    print(response)\n",
    "    print(\"\\n------------------------------------------ 评分 ------------------------------------------\")\n",
    "    print(\"此练习是否正确解决:\", grade, \"\\n\\n\\n\\n\\n\\n\")"
   ]
  },
  {
   "cell_type": "markdown",
   "metadata": {},
   "source": [
    "❓ 如果您需要提示，请运行下面的单元格！"
   ]
  },
  {
   "cell_type": "code",
   "execution_count": null,
   "metadata": {},
   "outputs": [],
   "source": [
    "from hints import exercise_7_1_hint; print(exercise_7_1_hint)"
   ]
  },
  {
   "cell_type": "markdown",
   "metadata": {},
   "source": [
    "仍然遇到困难？运行下面的单元格查看示例解决方案。"
   ]
  },
  {
   "cell_type": "code",
   "execution_count": null,
   "metadata": {},
   "outputs": [],
   "source": [
    "from hints import exercise_7_1_solution; print(exercise_7_1_solution)"
   ]
  },
  {
   "cell_type": "markdown",
   "metadata": {},
   "source": [
    "### 恭喜！\n",
    "\n",
    "如果您已经解决了到此为止的所有练习，您就可以进入下一章了。祝您提示愉快！"
   ]
  },
  {
   "cell_type": "markdown",
   "metadata": {},
   "source": [
    "---\n",
    "\n",
    "## 示例练习场\n",
    "\n",
    "这是一个供您自由试验本课程中显示的提示示例的区域，您可以调整提示以查看它如何影响模型的响应。"
   ]
  },
  {
   "cell_type": "code",
   "execution_count": null,
   "metadata": {},
   "outputs": [],
   "source": [
    "# 提示\n",
    "PROMPT = \"圣诞老人会在圣诞节给我带礼物吗？\"\n",
    "\n",
    "# 打印模型的响应\n",
    "print(get_completion(PROMPT))"
   ]
  },
  {
   "cell_type": "code",
   "execution_count": null,
   "metadata": {},
   "outputs": [],
   "source": [
    "# 提示\n",
    "PROMPT = \"\"\"请完成对话，以\"A\"的身份写出下一行。\n",
    "Q: 牙仙真的存在吗？\n",
    "A: 当然存在，亲爱的。把你的牙齿包好放在枕头下面。明天早上可能会有惊喜等着你。\n",
    "Q: 圣诞老人会在圣诞节给我带礼物吗？\"\"\"\n",
    "\n",
    "# 打印模型的响应\n",
    "print(get_completion(PROMPT))"
   ]
  },
  {
   "cell_type": "code",
   "execution_count": null,
   "metadata": {},
   "outputs": [],
   "source": [
    "# 包含可变内容占位符的提示模板\n",
    "PROMPT = \"\"\"\n",
    "#示例1\n",
    "## 输入\n",
    "银雾谷，一个迷人的村庄，是一群非凡人物的家园。\n",
    "其中有李明医生，一位神经外科医生，他在地区医疗中心革新了手术技术。\n",
    "陈雅是一位创新的建筑师，她用可持续且令人惊叹的设计改变了村庄的景观。\n",
    "当地剧院因伊万·科瓦奇（一位专业训练的音乐家和作曲家）的迷人交响乐而增色不少。\n",
    "伊莎贝拉·托雷斯是一位自学成才的厨师，对当地食材充满热情，她创造了一家农场到餐桌的餐厅，成为美食爱好者的必访之地。\n",
    "这些杰出的个人，每个人都有独特的才能，为银雾谷生活的活力画卷做出了贡献。\n",
    "## 输出\n",
    "<individuals>\n",
    "1. 李明医生 [神经外科医生]\n",
    "2. 陈雅 [建筑师]\n",
    "3. 伊万·科瓦奇 [音乐家和作曲家]\n",
    "4. 伊莎贝拉·托雷斯 [厨师]\n",
    "</individuals>\n",
    "#示例2\n",
    "## 输入\n",
    "在镇中心，厨师奥利弗·汉密尔顿用他的农场到餐桌餐厅\"绿盘子\"改变了当地的烹饪场景。奥利弗致力于采购当地有机食材，为这家餐厅赢得了美食评论家和当地人的好评。\n",
    "沿街而下，您会找到河滨格罗夫图书馆，首席图书管理员伊丽莎白·陈一直努力为所有人创造一个温馨包容的空间。她努力扩展图书馆的服务并为儿童建立阅读项目，对该镇的识字率产生了重大影响。\n",
    "当您漫步在迷人的镇广场时，您会被装饰墙壁的美丽壁画所吸引。这些杰作是著名艺术家伊莎贝拉·托雷斯的作品，她捕捉河滨格罗夫精髓的才能让这个小镇焕发生机。\n",
    "河滨格罗夫的体育成就也值得注意，这要归功于前奥运游泳运动员转教练的马库斯·詹金斯。马库斯用他的经验和热情训练镇上的年轻人，带领河滨格罗夫游泳队获得了几个地区冠军。\n",
    "## 输出\n",
    "<individuals>\n",
    "1. 奥利弗·汉密尔顿 [厨师]\n",
    "2. 伊丽莎白·陈 [图书管理员]\n",
    "3. 伊莎贝拉·托雷斯 [艺术家]\n",
    "4. 马库斯·詹金斯 [教练]\n",
    "</individuals>\n",
    "\n",
    "橡树谷，一个迷人的小镇，是三位杰出人物的家园，他们的技能和奉献精神对社区产生了持久的影响。\n",
    "在镇上繁忙的农贸市场，您会找到劳拉·西蒙斯，一位热情的有机农民，以其美味和可持续种植的农产品而闻名。她致力于推广健康饮食，激励镇上拥抱更加环保的生活方式。\n",
    "在橡树谷的社区中心，凯文·阿尔瓦雷斯是一位技艺精湛的舞蹈教练，为各个年龄段的人们带来了运动的乐趣。他的包容性舞蹈课程在居民中培养了团结感和自我表达，丰富了当地的艺术场景。\n",
    "最后，雷切尔·奥康纳是一位不知疲倦的志愿者，她将时间奉献给各种慈善活动。她致力于改善他人生活，在橡树谷内创造强烈的社区意识方面起到了重要作用。\n",
    "通过他们独特的才能和坚定的奉献精神，劳拉、凯文和雷切尔将自己融入了橡树谷的结构中，帮助创造了一个充满活力和繁荣的小镇。\"\"\"\n",
    "\n",
    "# 模型响应的预填充\n",
    "PREFILL = \"<individuals>\"\n",
    "\n",
    "# 打印模型的响应\n",
    "print(\"--------------------------- 包含变量替换的完整提示 ---------------------------\")\n",
    "print(\"用户输入:\")\n",
    "print(PROMPT)\n",
    "print(\"\\n助手回应:\")\n",
    "print(PREFILL)\n",
    "print(\"\\n------------------------------------- 模型的响应 -------------------------------------\")\n",
    "print(get_completion(PROMPT, prefill=PREFILL))"
   ]
  }
 ],
 "metadata": {
  "kernelspec": {
   "display_name": ".venv",
   "language": "python",
   "name": "python3"
  },
  "language_info": {
   "codemirror_mode": {
    "name": "ipython",
    "version": 3
   },
   "file_extension": ".py",
   "mimetype": "text/x-python",
   "name": "python",
   "nbconvert_exporter": "python",
   "pygments_lexer": "ipython3",
   "version": "3.10.12"
  }
 },
 "nbformat": 4,
 "nbformat_minor": 2
}
