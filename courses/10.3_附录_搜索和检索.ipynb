{
 "cells": [
  {
   "cell_type": "markdown",
   "metadata": {},
   "source": [
    "# 附录 10.3: 搜索和检索\n",
    "\n",
    "您知道可以使用GPT为您**搜索维基百科**吗？GPT可以查找和检索文章，然后您还可以使用GPT来总结和综合这些内容，从找到的内容中编写新颖的内容等等。不仅仅是维基百科！您还可以搜索自己的文档，无论是以纯文本形式存储还是嵌入在向量数据存储中。\n",
    "\n",
    "查看我们的[RAG cookbook示例](https://github.com/anthropics/anthropic-cookbook/blob/main/third_party/Wikipedia/wikipedia-search-cookbook.ipynb)，了解如何补充GPT的知识，并通过从向量数据库、维基百科、互联网等检索的数据提高GPT响应的准确性和相关性。在那里，您还可以了解如何使用某些[嵌入](https://platform.openai.com/docs/guides/embeddings)和向量数据库工具。\n",
    "\n",
    "如果您有兴趣了解使用GPT的高级RAG架构，请查看我们关于RAG架构的技术演示幻灯片。"
   ]
  }
 ],
 "metadata": {
  "language_info": {
   "name": "python"
  }
 },
 "nbformat": 4,
 "nbformat_minor": 2
}
